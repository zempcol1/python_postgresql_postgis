{
 "cells": [
  {
   "cell_type": "markdown",
   "id": "61847f62",
   "metadata": {},
   "source": [
    "# Arbeitspaket (AP) 3: Management & Nutzung Räumliche Daten"
   ]
  },
  {
   "cell_type": "markdown",
   "id": "c1da0ec4",
   "metadata": {},
   "source": [
    "### Angaben Studierende(r) (fehlende Angaben ergänzen)"
   ]
  },
  {
   "cell_type": "markdown",
   "id": "25fee1f8",
   "metadata": {},
   "source": [
    "<table>\n",
    "  <tr>\n",
    "    <td>Vorname:</td>\n",
    "    <td></td>\n",
    "  </tr>\n",
    "  <tr>\n",
    "    <td>Nachname:</td>\n",
    "    <td></td>\n",
    "  </tr>\n",
    "  <tr>\n",
    "    <td>Immatrikulationsnummer:</td>\n",
    "    <td></td>\n",
    "  </tr>\n",
    "  <tr>\n",
    "    <td>Modul:</td>\n",
    "    <td>Data Science</td>\n",
    "  </tr>\n",
    "  <tr>\n",
    "    <td>Prüfungsdatum / Raum / Zeit:</td>\n",
    "    <td>07.10.2024 / Raum: SF O3.54 / 8:00 – 11:45</td>\n",
    "  </tr>\n",
    "  <tr>\n",
    "    <td>Erlaubte Hilfsmittel:</td>\n",
    "    <td>w.MA.XX.DS.24HS (Data Science)<br>Open Book, Eigener Computer, Internet-Zugang</td>\n",
    "  </tr>\n",
    "  <tr>\n",
    "  <td>Nicht erlaubt:</td>\n",
    "  <td>Nicht erlaubt ist der Einsatz beliebiger Formen von generativer KI (z.B. Copilot, ChatGPT) <br> sowie beliebige Formen von Kommunikation oder Kollaboration mit anderen Menschen.</td>\n",
    "</tr>\n",
    "</table>"
   ]
  },
  {
   "cell_type": "markdown",
   "id": "f28b0f30",
   "metadata": {},
   "source": [
    "## Bewertungskriterien\n",
    "\n",
    "### <b style=\"color: gray;\">(max. erreichbare Punkte: 48)</b>\n",
    "\n",
    "<table>\n",
    "  <thead>\n",
    "    <tr>\n",
    "      <th>Kategorie</th>\n",
    "      <th>Beschreibung</th>\n",
    "      <th>Punkteverteilung</th>\n",
    "    </tr>\n",
    "  </thead>\n",
    "  <tbody>\n",
    "    <tr>\n",
    "      <td>Code nicht lauffähig oder Ergebnisse nicht sinnvoll</td>\n",
    "      <td>Der Code enthält Fehler, die verhindern, dass er ausgeführt werden kann (z.B. Syntaxfehler) oder es werden Ergebnisse ausgegeben, welche nicht zur Fragestellung passen.</td>\n",
    "      <td>0 Punkte</td>\n",
    "    </tr>\n",
    "    <tr>\n",
    "      <td>Code lauffähig, aber mit gravierenden Mängeln</td>\n",
    "      <td>Der Code läuft, aber die Ergebnisse sind aufgrund wesentlicher Fehler unvollständig (z.B. fehlende Joins, gravierende Fehler in SQL-Abfragen). Nur geringer Fortschritt erkennbar.</td>\n",
    "      <td>25% der max. erreichbaren Punkte</td>\n",
    "    </tr>\n",
    "    <tr>\n",
    "      <td>Code lauffähig, aber mit mittleren Mängeln</td>\n",
    "      <td>Der Code läuft und liefert teilweise korrekte Ergebnisse, aber es gibt grössere Fehler (z.B. fehlende Spalten, unvollständige SQL-Abfragen). Die Ergebnisse sind nachvollziehbar, aber unvollständig oder ungenau.</td>\n",
    "      <td>50% der max. erreichbaren Punkte</td>\n",
    "    </tr>\n",
    "    <tr>\n",
    "      <td>Code lauffähig, aber mit minimalen Mängeln</td>\n",
    "      <td>Der Code läuft und liefert ein weitgehend korrektes Ergebnis, aber kleinere Fehler (z.B. falsche oder fehlende Sortierung, Rundung von Werten falsch) beeinträchtigen die Vollständigkeit des Ergebnisses.</td>\n",
    "      <td>75% der max. erreichbaren Punkte</td>\n",
    "    </tr>\n",
    "    <tr>\n",
    "      <td>Code lauffähig und korrekt</td>\n",
    "      <td>Der Code läuft einwandfrei und liefert das korrekte Ergebnis ohne Mängel.</td>\n",
    "      <td>100% der max. erreichbaren Punkte</td>\n",
    "    </tr>\n",
    "  </tbody>\n",
    "</table>\n"
   ]
  },
  {
   "cell_type": "markdown",
   "id": "9b8df3dd",
   "metadata": {},
   "source": [
    "#### <b>Python Libraries und Settings</b>"
   ]
  },
  {
   "cell_type": "code",
   "execution_count": null,
   "id": "b027d889",
   "metadata": {},
   "outputs": [],
   "source": [
    "# Libraries\n",
    "import os\n",
    "import folium\n",
    "import pandas as pd\n",
    "import geopandas as gpd\n",
    "from sqlalchemy import create_engine, text\n",
    "\n",
    "# Ignore warnings\n",
    "import warnings\n",
    "warnings.filterwarnings(\"ignore\")\n",
    "\n",
    "print(os.getcwd())"
   ]
  },
  {
   "cell_type": "markdown",
   "id": "e9913f90",
   "metadata": {},
   "source": [
    "## <b>Vorbereitung (Hinweis: dieser Teil wird <u>nicht</u> bewertet)</b>"
   ]
  },
  {
   "cell_type": "markdown",
   "id": "53f4b234",
   "metadata": {},
   "source": [
    "#### <b>1.) Starten Sie eine GitHub Codespaces Instanz auf Basis Ihres Forks des folgenden GitHub Repositories:</b>\n",
    "\n",
    "##### GitHub-Repository: https://github.com/mario-gellrich-zhaw/python_postgresql_postgis\n",
    "\n",
    "##### <span style=\"color: red;\"><b>WICHTIG!!! Verwenden Sie eine GitHub Codespaces Instanz mit ausreichend Arbeitsspeicher (4core, 16GB RAM).</b></span>\n",
    "\n",
    "<b>Hinweis:</b> \n",
    "- Im Unterricht wurden bereits sämtliche Installationen und Einstellungen inkl. der Registrierung des Datenbank Servers auf pgAdmin vorgenommen.\n",
    "- Falls Sie die Codespaces-Instanz neu erstellen müssen, folgen Sie bitte den detaillierten Erklärungen auf der README-Seite des GitHub Repositories."
   ]
  },
  {
   "cell_type": "markdown",
   "id": "2f1db879",
   "metadata": {},
   "source": [
    "#### <b>2.) Erstellen und Testen Sie die Datenbankverbindung mit der 'osm_switzerland' Datenbank.</b>"
   ]
  },
  {
   "cell_type": "code",
   "execution_count": null,
   "id": "ef32ffa2-1859-48af-a78c-0f1b5748fc98",
   "metadata": {},
   "outputs": [],
   "source": [
    "# Set up Database Connection\n",
    "user = \"pgadmin\"\n",
    "password = \"geheim\"\n",
    "host = \"localhost\"\n",
    "port = \"5432\"\n",
    "database = \"osm_switzerland\"\n",
    "\n",
    "# Erstellen der Connection URL\n",
    "db_connection_url = \"postgresql://\" + user + \":\" + password +\\\n",
    "                    \"@\" + host + \":\" + port + \"/\" + database\n",
    "\n",
    "# Erstellen SQLAlchemy Engine\n",
    "engine = create_engine(db_connection_url)\n",
    "\n",
    "# Test der Connection\n",
    "with engine.connect() as connection:\n",
    "    result = connection.execute(text('SELECT current_database()'))\n",
    "    print(result.fetchone())\n",
    "\n",
    "# Verbindung trennen\n",
    "engine.dispose()"
   ]
  },
  {
   "cell_type": "markdown",
   "id": "cd2b3aa9",
   "metadata": {},
   "source": [
    "## <b>Aufgaben (Dieser Teil wird bewertet!)</b>\n",
    "<b>Hinweise zu den folgenden Aufgabenstellungen:</b>\n",
    "<ul>\n",
    "  <li>In diesem Jupyter Notebook gibt es jeweils zwei Code-Zellen pro Aufgabe:</li>\n",
    "  <ol>\n",
    "    <li>Eine Codezelle mit Python-Code und einem SQL-Statement für die Datenbank-Abfrage.</li>\n",
    "    <li>Eine Codezelle mit Python-Code für die Kartendarstellung der Ergebnisse der jeweiligen SQL-Abfrage.</li>\n",
    "  </ol>\n",
    "  <li>In den Codezellen für die Datenbank-Abfrage muss jeweils das SQL-Statement ergänzt werden.</li>\n",
    "  <li>In den Codezellen für die Kartendarstellung muss nur dann der Python Code ergänzt werden, wenn in der Aufgabe danach gefragt wird.</li>\n",
    "</ul>\n",
    "<b style=\"color:red;\">Beachten Sie, dass für die Punktevergabe auch die weiteren Anforderungen zu den Fragen unter 'Details zur Aufgabenstellung' herangezogen werden.</b>"
   ]
  },
  {
   "cell_type": "markdown",
   "id": "65b9d774",
   "metadata": {},
   "source": [
    "#### <b>Aufgabe (1): Erstellen Sie eine Abfrage sämtlicher Autoreparatur-Werkstätten.</b>\n",
    "<b>Details zur Aufgabenstellung:</b>\n",
    "- Sie finden die benötigten Daten in der Tabelle 'planet_osm_point'.\n",
    "- Stellen sie in der Ergebnistabelle die Spalten: osm_id, shop sowie die transformierte Geometrie als Spalte geom dar.\n",
    "- Tipp: Die Geometry wird mit Hilfe der Funktion st_transform() transformiert, z.B.: *st_transform(p.way, 4326) AS geom*.\n",
    "- Tipp: Autoreparatur-Werkstätten sind mit dem key:value Paar shop='car_repair' in der OpenStreetMap Map-Feature Übersicht angegeben.\n",
    "-  vgl: https://wiki.openstreetmap.org/wiki/Map_features\n",
    "\n",
    "<b style=\"color: gray;\">(max. erreichbare Punkte: 6)</b>"
   ]
  },
  {
   "cell_type": "code",
   "execution_count": null,
   "id": "47f2b0c1",
   "metadata": {},
   "outputs": [],
   "source": [
    "# Engine für Datenbankverbindung erstellen\n",
    "engine = create_engine(db_connection_url)\n",
    "\n",
    "# Ergänzen Sie die SQL-Abfrage, um die Aufgabe zu lösen\n",
    "sql = \"\"\"SELECT\n",
    "         FROM\n",
    "         WHERE\n",
    "      ;\"\"\"\n",
    "\n",
    "# Ergebnis in GeoDataFrame abspeichern\n",
    "gdf = gpd.GeoDataFrame.from_postgis(sql, engine)\n",
    "\n",
    "# Datenbankverbindung trennen\n",
    "engine.dispose()\n",
    "\n",
    "# Zeigen des GeoDataFrames\n",
    "gdf"
   ]
  },
  {
   "cell_type": "markdown",
   "id": "cf92018b",
   "metadata": {},
   "source": [
    "##### <b>Kartendarstellung Ergebnis (nur anpassen, falls in der Aufgabe danach gefragt wird)</b>"
   ]
  },
  {
   "cell_type": "code",
   "execution_count": null,
   "id": "0e65f537",
   "metadata": {},
   "outputs": [],
   "source": [
    "# Projektion definieren (WGS84)\n",
    "if gdf.crs is None:\n",
    "    gdf.set_crs(epsg=4326, inplace=True)\n",
    "else:\n",
    "    pass\n",
    "\n",
    "# Latitude und Longitude für die Zentrierung der Karte ermitteln\n",
    "centroids = gdf.geometry.centroid\n",
    "lon = centroids.x.mean()\n",
    "lat = centroids.y.mean()\n",
    "\n",
    "# Initialisieren der Map\n",
    "m = folium.Map(location=[lat, lon], \n",
    "               zoom_start=10, \n",
    "               tiles='CartoDB positron')\n",
    "\n",
    "# Map settings\n",
    "folium.GeoJson(\n",
    "    gdf,\n",
    "    name='map'\n",
    ").add_to(m)\n",
    "\n",
    "folium.LayerControl().add_to(m)\n",
    "\n",
    "# Plot map\n",
    "m"
   ]
  },
  {
   "cell_type": "markdown",
   "id": "40337678",
   "metadata": {},
   "source": [
    "#### <b>Aufgabe (2) Erstellen Sie eine Abfrage aller Biergärten.</b>\n",
    "<b>Details zur Aufgabenstellung:</b>\n",
    "- Sie finden die benötigten Daten in den Tabellen 'planet_osm_point'.\n",
    "- Stellen Sie in der Ergebnistabelle die Spalten: osm_id, amenity, name und die transformierte Geometrie als Spalte geom dar.\n",
    "- Tipp: Biergärten sind mit dem key:value Paar amenity='biergarten' in der OpenStreetMap Map-Feature Übersicht angegeben.\n",
    "-  vgl: https://wiki.openstreetmap.org/wiki/Map_features\n",
    "\n",
    "<b style=\"color: gray;\">(max. erreichbare Punkte: 6)</b>"
   ]
  },
  {
   "cell_type": "code",
   "execution_count": null,
   "id": "bcf08415",
   "metadata": {},
   "outputs": [],
   "source": [
    "# Engine für Datenbankverbindung erstellen\n",
    "engine = create_engine(db_connection_url)  \n",
    "\n",
    "# Ergänzen Sie die SQL-Abfrage, um die Aufgabe zu lösen\n",
    "sql = \"\"\"SELECT\n",
    "         FROM\n",
    "         WHERE\n",
    "     ;\"\"\"\n",
    "\n",
    "# Ergebnis in GeoDataFrame abspeichern\n",
    "gdf = gpd.GeoDataFrame.from_postgis(sql, engine)\n",
    "\n",
    "# Datenbankverbindung trennen\n",
    "engine.dispose()\n",
    "\n",
    "# Zeigen des GeoDataFrames\n",
    "gdf.head()"
   ]
  },
  {
   "cell_type": "markdown",
   "id": "eee7542d",
   "metadata": {},
   "source": [
    "##### <b>Kartendarstellung Ergebnis (nur anpassen, falls in der Aufgabe danach gefragt wird)</b>"
   ]
  },
  {
   "cell_type": "code",
   "execution_count": null,
   "id": "46392c73",
   "metadata": {},
   "outputs": [],
   "source": [
    "# Projektion definieren (WGS84)\n",
    "if gdf.crs is None:\n",
    "    gdf.set_crs(epsg=4326, inplace=True)\n",
    "else:\n",
    "    pass\n",
    "\n",
    "# Latitude und Longitude für die Zentrierung der Karte ermitteln\n",
    "centroids = gdf.geometry.centroid\n",
    "lon = centroids.x.mean()\n",
    "lat = centroids.y.mean()\n",
    "\n",
    "# Initialisieren der Map\n",
    "m = folium.Map(location=[lat, lon], \n",
    "               zoom_start=8, \n",
    "               tiles='CartoDB positron')\n",
    "\n",
    "# Map settings\n",
    "folium.GeoJson(\n",
    "    gdf,\n",
    "    name='map'\n",
    ").add_to(m)\n",
    "\n",
    "folium.LayerControl().add_to(m)\n",
    "\n",
    "# Plot map\n",
    "m"
   ]
  },
  {
   "cell_type": "markdown",
   "id": "66164662",
   "metadata": {},
   "source": [
    "#### <b>Aufgabe (3): Erstellen Sie eine Abfrage aller Gebäude in der Stadthausstrasse in Winterthur, welche vollständige Adressangaben besitzen.</b>\n",
    "<b>Details zur Aufgabenstellung:</b>\n",
    "- Sie finden die benötigten Daten in der Tabelle 'planet_osm_polygon'.\n",
    "- Vollständige Adressangabe bedeutet: Strassenname, Haunummer, PLZ, Gemeindename sind vorhanden.\n",
    "- Stellen Sie in der Ergebnistabelle sämtliche Adressangaben sowie die transformierte Geometrie als Spalte geom dar.\n",
    "- Verwenden Sie für die Darstellung als Hintergrundkarte ein Satellitenbild (ESRIWorldImagery) als maptile.\n",
    "- Tipp: Gebäude sind in der Spalte 'building' klassifiziert. Mit *WHERE building IS NOT NULL* können Sie Gebäude filtern.\n",
    "\n",
    "<b style=\"color: gray;\">(max. erreichbare Punkte: 6)</b>"
   ]
  },
  {
   "cell_type": "code",
   "execution_count": null,
   "id": "cfd07b2d-1b23-4c93-b3f9-ccc3dcc73c31",
   "metadata": {},
   "outputs": [],
   "source": [
    "# Engine für Datenbankverbindung erstellen\n",
    "engine = create_engine(db_connection_url)  \n",
    "\n",
    "# Ergänzen Sie die SQL-Abfrage, um die Aufgabe zu lösen\n",
    "sql = \"\"\"SELECT\n",
    "         FROM\n",
    "         WHERE\n",
    "     ;\"\"\"\n",
    "\n",
    "# Ergebnis in GeoDataFrame abspeichern\n",
    "gdf = gpd.GeoDataFrame.from_postgis(sql, engine)\n",
    "\n",
    "# Datenbankverbindung trennen\n",
    "engine.dispose()\n",
    "\n",
    "# Zeigen des GeoDataFrames\n",
    "gdf"
   ]
  },
  {
   "cell_type": "markdown",
   "id": "05873491",
   "metadata": {},
   "source": [
    "##### <b>Kartendarstellung Ergebnis (nur anpassen, falls in der Aufgabe danach gefragt wird)</b>"
   ]
  },
  {
   "cell_type": "code",
   "execution_count": null,
   "id": "4c2d2d4f",
   "metadata": {},
   "outputs": [],
   "source": [
    "# Projektion definieren (WGS84)\n",
    "if gdf.crs is None:\n",
    "    gdf.set_crs(epsg=4326, inplace=True)\n",
    "else:\n",
    "    pass\n",
    "\n",
    "# Latitude und Longitude für die Zentrierung der Karte ermitteln\n",
    "centroids = gdf.geometry.centroid\n",
    "lon = centroids.x.mean()\n",
    "lat = centroids.y.mean()\n",
    "\n",
    "# Initialisieren der Map\n",
    "m = folium.Map(location=[lat, lon], \n",
    "               zoom_start=17, \n",
    "               tiles='CartoDB positron')\n",
    "\n",
    "# Map settings\n",
    "folium.Choropleth(\n",
    "    geo_data=gdf,\n",
    "    name='map',\n",
    "    fill_color='greenyellow'\n",
    ").add_to(m)\n",
    "\n",
    "folium.LayerControl().add_to(m)\n",
    "\n",
    "# Plot map\n",
    "m"
   ]
  },
  {
   "cell_type": "markdown",
   "id": "acc3fec8",
   "metadata": {},
   "source": [
    "#### <b>Aufgabe (4): Erstellen Sie eine Abfrage aller Strassen welche als 'motorway' klassifiziert sind.</b>\n",
    "<b>Details zur Aufgabenstellung:</b>\n",
    "- Sie finden die benötigten Informationen in der Tabelle 'planet_osm_roads'.\n",
    "- Stellen Sie in der Ergebnistabelle die Spalten: osm_id, highway und die transformierte Geometrie als Spalte geom dar.\n",
    "- Tipp: Motorways sind mit dem key:value Paar highway='motorway' in der OpenStreetMap Map-Feature Übersicht angegeben.\n",
    "-  vgl: https://wiki.openstreetmap.org/wiki/Map_features\n",
    "\n",
    "<b style=\"color: gray;\">(max. erreichbare Punkte: 6)</b>"
   ]
  },
  {
   "cell_type": "code",
   "execution_count": null,
   "id": "ed99968e",
   "metadata": {},
   "outputs": [],
   "source": [
    "# Engine für Datenbankverbindung erstellen\n",
    "engine = create_engine(db_connection_url)  \n",
    "\n",
    "# Ergänzen Sie die SQL-Abfrage, um die Aufgabe zu lösen\n",
    "sql = \"\"\"SELECT\n",
    "         FROM\n",
    "         WHERE\n",
    "     ;\"\"\"\n",
    "\n",
    "# Ergebnis in GeoDataFrame abspeichern\n",
    "gdf = gpd.GeoDataFrame.from_postgis(sql, engine)\n",
    "\n",
    "# Datenbankverbindung trennen\n",
    "engine.dispose()\n",
    "\n",
    "# Zeigen des GeoDataFrames\n",
    "gdf"
   ]
  },
  {
   "cell_type": "markdown",
   "id": "e48892e0",
   "metadata": {},
   "source": [
    "##### <b>Kartendarstellung Ergebnis (nur anpassen, falls in der Aufgabe danach gefragt wird)</b>"
   ]
  },
  {
   "cell_type": "code",
   "execution_count": null,
   "id": "244038da",
   "metadata": {},
   "outputs": [],
   "source": [
    "# Projektion definieren (WGS84)\n",
    "if gdf.crs is None:\n",
    "    gdf.set_crs(epsg=4326, inplace=True)\n",
    "else:\n",
    "    pass\n",
    "\n",
    "# Latitude und Longitude für die Zentrierung der Karte ermitteln\n",
    "centroids = gdf.geometry.centroid\n",
    "lon = centroids.x.mean()\n",
    "lat = centroids.y.mean()\n",
    "\n",
    "# Initialisieren der Map\n",
    "m = folium.Map(location=[lat, lon], \n",
    "               zoom_start=10, \n",
    "               tiles='CartoDB positron')\n",
    "\n",
    "# Map settings\n",
    "folium.Choropleth(\n",
    "    geo_data=gdf,\n",
    "    name='map',\n",
    "    line_weight=3,\n",
    "    line_color='red'\n",
    ").add_to(m)\n",
    "\n",
    "folium.LayerControl().add_to(m)\n",
    "\n",
    "# Plot map\n",
    "m"
   ]
  },
  {
   "cell_type": "markdown",
   "id": "2b80dc61",
   "metadata": {},
   "source": [
    "#### <b>Aufgabe (5): Erstellen Sie eine Abfrage aller Flüsse. Generieren Sie zusätzlich Buffer um die Flüsse mit einer Breite von 2000m.</b>\n",
    "<b>Details zur Aufgabenstellung:</b>\n",
    "- Sie finden die benötigten Informationen in der Tabelle 'planet_osm_line'.\n",
    "- Stellen Sie in der Ergebnistabelle die Spalten: osm_id, waterway sowie die transformierte Geometrie als Spalte geom dar.\n",
    "- Tipp: Flüsse sind mit dem key:value Paar waterway='river' in der OpenStreetMap Map-Feature Übersicht angegeben.\n",
    "-  vgl: https://wiki.openstreetmap.org/wiki/Map_features\n",
    "- Tipp: Per Default wird für jedes Fluss-Segment ein separater Buffer erstellt. Es ist nicht notwendig daraus einen einzelnen Buffer zu generieren.\n",
    "\n",
    "<b style=\"color: gray;\">(max. erreichbare Punkte: 8)</b>"
   ]
  },
  {
   "cell_type": "code",
   "execution_count": null,
   "id": "077a187d-05be-4c30-a367-a4e1a19d4466",
   "metadata": {},
   "outputs": [],
   "source": [
    "# Engine für Datenbankverbindung erstellen\n",
    "engine = create_engine(db_connection_url)  \n",
    "\n",
    "# Ergänzen Sie die SQL-Abfrage, um die Aufgabe zu lösen\n",
    "sql = \"\"\"SELECT\n",
    "         FROM\n",
    "         WHERE\n",
    "     ;\"\"\"\n",
    "\n",
    "# Ergebnis in GeoDataFrame abspeichern\n",
    "gdf = gpd.GeoDataFrame.from_postgis(sql, engine)\n",
    "\n",
    "# Datenbankverbindung trennen\n",
    "engine.dispose()\n",
    "\n",
    "# Zeigen des GeoDataFrames\n",
    "gdf"
   ]
  },
  {
   "cell_type": "markdown",
   "id": "add8e683",
   "metadata": {},
   "source": [
    "##### <b>Kartendarstellung Ergebnis (nur anpassen, falls in der Aufgabe danach gefragt wird)</b>"
   ]
  },
  {
   "cell_type": "code",
   "execution_count": null,
   "id": "2c956002",
   "metadata": {},
   "outputs": [],
   "source": [
    "# Projektion definieren (WGS84)\n",
    "if gdf.crs is None:\n",
    "    gdf.set_crs(epsg=4326, inplace=True)\n",
    "else:\n",
    "    pass\n",
    "\n",
    "# Latitude und Longitude für die Zentrierung der Karte ermitteln\n",
    "centroids = gdf.geometry.centroid\n",
    "lon = centroids.x.mean()\n",
    "lat = centroids.y.mean()\n",
    "\n",
    "# Initialisieren der Map\n",
    "m = folium.Map(location=[lat, lon], \n",
    "               zoom_start=10, \n",
    "               tiles='CartoDB positron')\n",
    "\n",
    "# Map settings\n",
    "folium.Choropleth(\n",
    "    geo_data=gdf,\n",
    "    name='map',\n",
    "    fill_color='greenyellow'\n",
    ").add_to(m)\n",
    "\n",
    "folium.LayerControl().add_to(m)\n",
    "\n",
    "# Plot map\n",
    "m"
   ]
  },
  {
   "cell_type": "markdown",
   "id": "ba5b3943",
   "metadata": {},
   "source": [
    "#### <b>Aufgabe (6): Erstellen Sie eine Abfrage der Bäckerei-Geschäfte in Zürich und Winterthur.</b>\n",
    "<b>Details zur Aufgabenstellung:</b>\n",
    "- Sie finden die benötigten Daten in den Tabellen 'planet_osm_point' (Backereien).\n",
    "- Verwenden Sie die Städtenamen aus den Adressangaben für die Abfrage der Bäckerei-Standorte (Zürich, Winterthur).\n",
    "- Stellen Sie in der Ergebnistabelle die Spalten: osm_id, shop, name, \"addr:city\" sowie die transformierte Geometrie als geom dar.\n",
    "- Wählen Sie eine Satelliten Karte von ESRI als Hintergrundkarte (maptile).\n",
    "- Sortieren Sie die Bäckerei-Geschäfte aufsteigend nach osm_id.\n",
    "- Tipp: Bäckerei-Geschäfte sind mit dem key:value Paar shop='bakery' in der OpenStreetMap Map-Feature Übersicht angegeben.\n",
    "-  vgl: https://wiki.openstreetmap.org/wiki/Map_features\n",
    "\n",
    "<b style=\"color: gray;\">(max. erreichbare Punkte: 8)</b>"
   ]
  },
  {
   "cell_type": "code",
   "execution_count": null,
   "id": "c2d69f01",
   "metadata": {},
   "outputs": [],
   "source": [
    "# Engine für Datenbankverbindung erstellen\n",
    "engine = create_engine(db_connection_url)  \n",
    "\n",
    "# Ergänzen Sie die SQL-Abfrage, um die Aufgabe zu lösen\n",
    "sql = \"\"\"SELECT\n",
    "         FROM\n",
    "         WHERE\n",
    "     ;\"\"\"\n",
    "\n",
    "# Ergebnis in GeoDataFrame abspeichern\n",
    "gdf = gpd.GeoDataFrame.from_postgis(sql, engine)\n",
    "\n",
    "# Datenbankverbindung trennen\n",
    "engine.dispose()\n",
    "\n",
    "# Zeigen des GeoDataFrames\n",
    "gdf"
   ]
  },
  {
   "cell_type": "markdown",
   "id": "0083c48e",
   "metadata": {},
   "source": [
    "##### <b>Kartendarstellung Ergebnis (nur anpassen, falls in der Aufgabe danach gefragt wird)</b>"
   ]
  },
  {
   "cell_type": "code",
   "execution_count": null,
   "id": "67e1f94d",
   "metadata": {},
   "outputs": [],
   "source": [
    "# Projektion definieren (WGS84)\n",
    "if gdf.crs is None:\n",
    "    gdf.set_crs(epsg=4326, inplace=True)\n",
    "else:\n",
    "    pass\n",
    "\n",
    "# Latitude und Longitude für die Zentrierung der Karte ermitteln\n",
    "centroids = gdf.geometry.centroid\n",
    "lon = centroids.x.mean()\n",
    "lat = centroids.y.mean()\n",
    "\n",
    "# Initialisieren der Map\n",
    "m = folium.Map(location=[lat, lon], \n",
    "               zoom_start=12, \n",
    "               tiles='CartoDB positron')\n",
    "\n",
    "# Map settings\n",
    "folium.GeoJson(\n",
    "    gdf,\n",
    "    name='map',\n",
    ").add_to(m)\n",
    "\n",
    "folium.LayerControl().add_to(m)\n",
    "\n",
    "# Plot map\n",
    "m"
   ]
  },
  {
   "cell_type": "markdown",
   "id": "08bd20f4",
   "metadata": {},
   "source": [
    "#### <b>Aufgabe (7): Erstellen Sie eine Abfrage sämtlicher Coiffeur-Geschäfte in einem Radius von 500m um den Hauptbahnhof in Zürich.</b>\n",
    "<b>Details zur Aufgabenstellung:</b>\n",
    "- Sie finden die Daten in der Tabelle 'planet_osm_point'.\n",
    "- Berechnen Sie in der Abfrage die Distanz jedes Coiffeur-Geschäfts zum Hauptbahnhof in Metern als Spalte 'distance_meters'.\n",
    "- Stellen Sie in der Ergebnistabelle die Spalten: osm_id, shop, name, distance_meters, sowie die transformierte Geometrie als geom dar.\n",
    "- Wählen Sie eine Satelliten Karte von ESRI als Hintergrundkarte (maptile).\n",
    "- Integrieren Sie in die Kartendarstellung den Namen (Spalte 'name') der Coiffeur-Geschäfte als Popup.\n",
    "- Tipp: Coiffeur-Geschäfte sind mit dem key:value Paar shop='hairdresser' in der OpenStreetMap Map-Feature Übersicht angegeben.\n",
    "-  vgl: https://wiki.openstreetmap.org/wiki/Map_features\n",
    "\n",
    "<b style=\"color: gray;\">(max. erreichbare Punkte: 8)</b>"
   ]
  },
  {
   "cell_type": "code",
   "execution_count": null,
   "id": "504ca399",
   "metadata": {},
   "outputs": [],
   "source": [
    "# Engine für Datenbankverbindung erstellen\n",
    "engine = create_engine(db_connection_url)  \n",
    "\n",
    "# Ergänzen Sie die SQL-Abfrage, um die Aufgabe zu lösen\n",
    "sql = \"\"\"SELECT\n",
    "         FROM\n",
    "         WHERE\n",
    "     ;\"\"\"\n",
    "\n",
    "# Ergebnis in GeoDataFrame abspeichern\n",
    "gdf = gpd.GeoDataFrame.from_postgis(sql, engine)\n",
    "\n",
    "# Datenbankverbindung trennen\n",
    "engine.dispose()\n",
    "\n",
    "# Zeigen des GeoDataFrames\n",
    "gdf.head()"
   ]
  },
  {
   "cell_type": "markdown",
   "id": "230fc3c4",
   "metadata": {},
   "source": [
    "##### <b>Kartendarstellung Ergebnis (nur anpassen, falls in der Aufgabe danach gefragt wird)</b>"
   ]
  },
  {
   "cell_type": "code",
   "execution_count": null,
   "id": "e7358574",
   "metadata": {},
   "outputs": [],
   "source": [
    "# Projektion definieren (WGS84)\n",
    "if gdf.crs is None:\n",
    "    gdf.set_crs(epsg=4326, inplace=True)\n",
    "else:\n",
    "    pass\n",
    "\n",
    "# Latitude und Longitude für die Zentrierung der Karte ermitteln\n",
    "centroids = gdf.geometry.centroid\n",
    "lon = centroids.x.mean()\n",
    "lat = centroids.y.mean()\n",
    "\n",
    "# Initialisieren der Map\n",
    "m = folium.Map(location=[lat, lon], \n",
    "               zoom_start=16, \n",
    "               tiles='CartoDB positron')\n",
    "\n",
    "# Map settings\n",
    "folium.GeoJson(\n",
    "    gdf,\n",
    "    name='map'\n",
    ").add_to(m)\n",
    "\n",
    "folium.LayerControl().add_to(m)\n",
    "\n",
    "# Plot map\n",
    "m"
   ]
  },
  {
   "attachments": {},
   "cell_type": "markdown",
   "id": "ff525b1e",
   "metadata": {},
   "source": [
    "### Jupyter notebook --footer info-- (please always provide this at the end of each notebook)"
   ]
  },
  {
   "cell_type": "code",
   "execution_count": null,
   "id": "e6cae5b2",
   "metadata": {},
   "outputs": [],
   "source": [
    "import os\n",
    "import platform\n",
    "import socket\n",
    "from platform import python_version\n",
    "from datetime import datetime\n",
    "\n",
    "print('-----------------------------------')\n",
    "print(os.name.upper())\n",
    "print(platform.system(), '|', platform.release())\n",
    "print('Datetime:', datetime.now().strftime(\"%Y-%m-%d %H:%M:%S\"))\n",
    "print('Python Version:', python_version())\n",
    "print('IP Address:', socket.gethostbyname(socket.gethostname()))\n",
    "print('-----------------------------------')"
   ]
  }
 ],
 "metadata": {
  "kernelspec": {
   "display_name": "gisenv",
   "language": "python",
   "name": "python3"
  },
  "language_info": {
   "codemirror_mode": {
    "name": "ipython",
    "version": 3
   },
   "file_extension": ".py",
   "mimetype": "text/x-python",
   "name": "python",
   "nbconvert_exporter": "python",
   "pygments_lexer": "ipython3",
   "version": "3.11.9"
  }
 },
 "nbformat": 4,
 "nbformat_minor": 5
}
